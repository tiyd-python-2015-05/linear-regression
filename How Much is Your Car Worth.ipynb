{
 "cells": [
  {
   "cell_type": "code",
   "execution_count": null,
   "metadata": {
    "collapsed": true
   },
   "outputs": [],
   "source": [
    "#Hey Clinton,\n",
    "#I spent too much time reading the paper assigned first, then didn't have to go back and finish the assignment. \n",
    "#Below are most of the first two parts of this page. It's not too hard. \n",
    "#I got stuck near the beginning on extracting data from data frames:\n",
    "\n",
    "#Why must we do: \n",
    "\n",
    "#Mileage = df[['Mileage']]\n",
    "#Price = df['Price']\n",
    "\n",
    "#as opposed to:\n",
    "#(missing set of brackets on first component:mileage)\n",
    "#Mileage = df['Mileage']\n",
    "#Price = df['Price']\n",
    "#?\n",
    "\n",
    "#I also had a little trouble with multiple regression syntax\n",
    "#The paper was great, and I'm very interested in learning/talking more about the ideas introduced (which were quite a lot)\n",
    "\n",
    "#See you tomorrow,\n",
    "#Will\n",
    "\n"
   ]
  },
  {
   "cell_type": "code",
   "execution_count": 29,
   "metadata": {
    "collapsed": true
   },
   "outputs": [],
   "source": [
    "import pandas as pd\n",
    "import matplotlib.pyplot as plt\n",
    "import numpy as np\n",
    "from sklearn import linear_model"
   ]
  },
  {
   "cell_type": "code",
   "execution_count": 30,
   "metadata": {
    "collapsed": true
   },
   "outputs": [],
   "source": [
    "%matplotlib inline"
   ]
  },
  {
   "cell_type": "markdown",
   "metadata": {},
   "source": [
    "# How Much is Your Car Worth?\n",
    "\n",
    "Data about the retail price of 2005 General Motors cars can be found in `car_data.csv`.\n",
    "\n",
    "The columns are:\n",
    "\n",
    "1. Price: suggested retail price of the used 2005 GM car in excellent condition.\n",
    "2. Mileage: number of miles the car has been driven\n",
    "3. Make: manufacturer of the car such as Saturn, Pontiac, and Chevrolet\n",
    "4. Model: specific models for each car manufacturer such as Ion, Vibe, Cavalier\n",
    "5. Trim (of car): specific type of car model such as SE Sedan 4D, Quad Coupe 2D          \n",
    "6. Type: body type such as sedan, coupe, etc.      \n",
    "7. Cylinder: number of cylinders in the engine        \n",
    "8. Liter: a more specific measure of engine size     \n",
    "9. Doors: number of doors           \n",
    "10. Cruise: indicator variable representing whether the car has cruise control (1 = cruise)\n",
    "11. Sound: indicator variable representing whether the car has upgraded speakers (1 = upgraded)\n",
    "12. Leather: indicator variable representing whether the car has leather seats (1 = leather)\n",
    "\n",
    "## Tasks, Part 1\n",
    "\n",
    "1. Find the linear regression equation for mileage vs price.\n",
    "2. Chart the original data and the equation on the chart.\n",
    "3. Find the equation's $R^2$ score (use the `.score` method) to determine whether the\n",
    "equation is a good fit for this data. (0.8 and greater is considered a strong correlation.)\n",
    "\n",
    "## Tasks, Part 2\n",
    "\n",
    "1. Use mileage, cylinders, liters, doors, cruise, sound, and leather to find the linear regression equation.\n",
    "2. Find the equation's $R^2$ score (use the `.score` method) to determine whether the\n",
    "equation is a good fit for this data. (0.8 and greater is considered a strong correlation.)\n",
    "3. Find the combination of the factors that is the best predictor for price.\n",
    "\n",
    "## Tasks, Hard Mode\n",
    "\n",
    "1. Research dummy variables in scikit-learn to see how to use the make, model, and body type.\n",
    "2. Find the best combination of factors to predict price."
   ]
  },
  {
   "cell_type": "code",
   "execution_count": 31,
   "metadata": {
    "collapsed": false
   },
   "outputs": [],
   "source": [
    "df = pd.read_csv(\"car_data.csv\")"
   ]
  },
  {
   "cell_type": "markdown",
   "metadata": {},
   "source": [
    "# Part 1:"
   ]
  },
  {
   "cell_type": "code",
   "execution_count": 32,
   "metadata": {
    "collapsed": false
   },
   "outputs": [
    {
     "data": {
      "text/html": [
       "<div style=\"max-height:1000px;max-width:1500px;overflow:auto;\">\n",
       "<table border=\"1\" class=\"dataframe\">\n",
       "  <thead>\n",
       "    <tr style=\"text-align: right;\">\n",
       "      <th></th>\n",
       "      <th>Price</th>\n",
       "      <th>Mileage</th>\n",
       "      <th>Make</th>\n",
       "      <th>Model</th>\n",
       "      <th>Trim</th>\n",
       "      <th>Type</th>\n",
       "      <th>Cylinder</th>\n",
       "      <th>Liter</th>\n",
       "      <th>Doors</th>\n",
       "      <th>Cruise</th>\n",
       "      <th>Sound</th>\n",
       "      <th>Leather</th>\n",
       "    </tr>\n",
       "  </thead>\n",
       "  <tbody>\n",
       "    <tr>\n",
       "      <th>0</th>\n",
       "      <td>17314.103129</td>\n",
       "      <td>8221</td>\n",
       "      <td>Buick</td>\n",
       "      <td>Century</td>\n",
       "      <td>Sedan 4D</td>\n",
       "      <td>Sedan</td>\n",
       "      <td>6</td>\n",
       "      <td>3.1</td>\n",
       "      <td>4</td>\n",
       "      <td>1</td>\n",
       "      <td>1</td>\n",
       "      <td>1</td>\n",
       "    </tr>\n",
       "    <tr>\n",
       "      <th>1</th>\n",
       "      <td>17542.036083</td>\n",
       "      <td>9135</td>\n",
       "      <td>Buick</td>\n",
       "      <td>Century</td>\n",
       "      <td>Sedan 4D</td>\n",
       "      <td>Sedan</td>\n",
       "      <td>6</td>\n",
       "      <td>3.1</td>\n",
       "      <td>4</td>\n",
       "      <td>1</td>\n",
       "      <td>1</td>\n",
       "      <td>0</td>\n",
       "    </tr>\n",
       "    <tr>\n",
       "      <th>2</th>\n",
       "      <td>16218.847862</td>\n",
       "      <td>13196</td>\n",
       "      <td>Buick</td>\n",
       "      <td>Century</td>\n",
       "      <td>Sedan 4D</td>\n",
       "      <td>Sedan</td>\n",
       "      <td>6</td>\n",
       "      <td>3.1</td>\n",
       "      <td>4</td>\n",
       "      <td>1</td>\n",
       "      <td>1</td>\n",
       "      <td>0</td>\n",
       "    </tr>\n",
       "    <tr>\n",
       "      <th>3</th>\n",
       "      <td>16336.913140</td>\n",
       "      <td>16342</td>\n",
       "      <td>Buick</td>\n",
       "      <td>Century</td>\n",
       "      <td>Sedan 4D</td>\n",
       "      <td>Sedan</td>\n",
       "      <td>6</td>\n",
       "      <td>3.1</td>\n",
       "      <td>4</td>\n",
       "      <td>1</td>\n",
       "      <td>0</td>\n",
       "      <td>0</td>\n",
       "    </tr>\n",
       "    <tr>\n",
       "      <th>4</th>\n",
       "      <td>16339.170324</td>\n",
       "      <td>19832</td>\n",
       "      <td>Buick</td>\n",
       "      <td>Century</td>\n",
       "      <td>Sedan 4D</td>\n",
       "      <td>Sedan</td>\n",
       "      <td>6</td>\n",
       "      <td>3.1</td>\n",
       "      <td>4</td>\n",
       "      <td>1</td>\n",
       "      <td>0</td>\n",
       "      <td>1</td>\n",
       "    </tr>\n",
       "  </tbody>\n",
       "</table>\n",
       "</div>"
      ],
      "text/plain": [
       "          Price  Mileage   Make    Model      Trim   Type  Cylinder  Liter  \\\n",
       "0  17314.103129     8221  Buick  Century  Sedan 4D  Sedan         6    3.1   \n",
       "1  17542.036083     9135  Buick  Century  Sedan 4D  Sedan         6    3.1   \n",
       "2  16218.847862    13196  Buick  Century  Sedan 4D  Sedan         6    3.1   \n",
       "3  16336.913140    16342  Buick  Century  Sedan 4D  Sedan         6    3.1   \n",
       "4  16339.170324    19832  Buick  Century  Sedan 4D  Sedan         6    3.1   \n",
       "\n",
       "   Doors  Cruise  Sound  Leather  \n",
       "0      4       1      1        1  \n",
       "1      4       1      1        0  \n",
       "2      4       1      1        0  \n",
       "3      4       1      0        0  \n",
       "4      4       1      0        1  "
      ]
     },
     "execution_count": 32,
     "metadata": {},
     "output_type": "execute_result"
    }
   ],
   "source": [
    "df.head()"
   ]
  },
  {
   "cell_type": "code",
   "execution_count": 33,
   "metadata": {
    "collapsed": false
   },
   "outputs": [
    {
     "data": {
      "text/html": [
       "<div style=\"max-height:1000px;max-width:1500px;overflow:auto;\">\n",
       "<table border=\"1\" class=\"dataframe\">\n",
       "  <thead>\n",
       "    <tr style=\"text-align: right;\">\n",
       "      <th></th>\n",
       "      <th>Price</th>\n",
       "      <th>Mileage</th>\n",
       "      <th>Cylinder</th>\n",
       "      <th>Liter</th>\n",
       "      <th>Doors</th>\n",
       "      <th>Cruise</th>\n",
       "      <th>Sound</th>\n",
       "      <th>Leather</th>\n",
       "    </tr>\n",
       "  </thead>\n",
       "  <tbody>\n",
       "    <tr>\n",
       "      <th>count</th>\n",
       "      <td>804.000000</td>\n",
       "      <td>804.000000</td>\n",
       "      <td>804.000000</td>\n",
       "      <td>804.000000</td>\n",
       "      <td>804.000000</td>\n",
       "      <td>804.000000</td>\n",
       "      <td>804.000000</td>\n",
       "      <td>804.000000</td>\n",
       "    </tr>\n",
       "    <tr>\n",
       "      <th>mean</th>\n",
       "      <td>21343.143767</td>\n",
       "      <td>19831.934080</td>\n",
       "      <td>5.268657</td>\n",
       "      <td>3.037313</td>\n",
       "      <td>3.527363</td>\n",
       "      <td>0.752488</td>\n",
       "      <td>0.679104</td>\n",
       "      <td>0.723881</td>\n",
       "    </tr>\n",
       "    <tr>\n",
       "      <th>std</th>\n",
       "      <td>9884.852801</td>\n",
       "      <td>8196.319707</td>\n",
       "      <td>1.387531</td>\n",
       "      <td>1.105562</td>\n",
       "      <td>0.850169</td>\n",
       "      <td>0.431836</td>\n",
       "      <td>0.467111</td>\n",
       "      <td>0.447355</td>\n",
       "    </tr>\n",
       "    <tr>\n",
       "      <th>min</th>\n",
       "      <td>8638.930895</td>\n",
       "      <td>266.000000</td>\n",
       "      <td>4.000000</td>\n",
       "      <td>1.600000</td>\n",
       "      <td>2.000000</td>\n",
       "      <td>0.000000</td>\n",
       "      <td>0.000000</td>\n",
       "      <td>0.000000</td>\n",
       "    </tr>\n",
       "    <tr>\n",
       "      <th>25%</th>\n",
       "      <td>14273.073870</td>\n",
       "      <td>14623.500000</td>\n",
       "      <td>4.000000</td>\n",
       "      <td>2.200000</td>\n",
       "      <td>4.000000</td>\n",
       "      <td>1.000000</td>\n",
       "      <td>0.000000</td>\n",
       "      <td>0.000000</td>\n",
       "    </tr>\n",
       "    <tr>\n",
       "      <th>50%</th>\n",
       "      <td>18024.995019</td>\n",
       "      <td>20913.500000</td>\n",
       "      <td>6.000000</td>\n",
       "      <td>2.800000</td>\n",
       "      <td>4.000000</td>\n",
       "      <td>1.000000</td>\n",
       "      <td>1.000000</td>\n",
       "      <td>1.000000</td>\n",
       "    </tr>\n",
       "    <tr>\n",
       "      <th>75%</th>\n",
       "      <td>26717.316636</td>\n",
       "      <td>25213.000000</td>\n",
       "      <td>6.000000</td>\n",
       "      <td>3.800000</td>\n",
       "      <td>4.000000</td>\n",
       "      <td>1.000000</td>\n",
       "      <td>1.000000</td>\n",
       "      <td>1.000000</td>\n",
       "    </tr>\n",
       "    <tr>\n",
       "      <th>max</th>\n",
       "      <td>70755.466717</td>\n",
       "      <td>50387.000000</td>\n",
       "      <td>8.000000</td>\n",
       "      <td>6.000000</td>\n",
       "      <td>4.000000</td>\n",
       "      <td>1.000000</td>\n",
       "      <td>1.000000</td>\n",
       "      <td>1.000000</td>\n",
       "    </tr>\n",
       "  </tbody>\n",
       "</table>\n",
       "</div>"
      ],
      "text/plain": [
       "              Price       Mileage    Cylinder       Liter       Doors  \\\n",
       "count    804.000000    804.000000  804.000000  804.000000  804.000000   \n",
       "mean   21343.143767  19831.934080    5.268657    3.037313    3.527363   \n",
       "std     9884.852801   8196.319707    1.387531    1.105562    0.850169   \n",
       "min     8638.930895    266.000000    4.000000    1.600000    2.000000   \n",
       "25%    14273.073870  14623.500000    4.000000    2.200000    4.000000   \n",
       "50%    18024.995019  20913.500000    6.000000    2.800000    4.000000   \n",
       "75%    26717.316636  25213.000000    6.000000    3.800000    4.000000   \n",
       "max    70755.466717  50387.000000    8.000000    6.000000    4.000000   \n",
       "\n",
       "           Cruise       Sound     Leather  \n",
       "count  804.000000  804.000000  804.000000  \n",
       "mean     0.752488    0.679104    0.723881  \n",
       "std      0.431836    0.467111    0.447355  \n",
       "min      0.000000    0.000000    0.000000  \n",
       "25%      1.000000    0.000000    0.000000  \n",
       "50%      1.000000    1.000000    1.000000  \n",
       "75%      1.000000    1.000000    1.000000  \n",
       "max      1.000000    1.000000    1.000000  "
      ]
     },
     "execution_count": 33,
     "metadata": {},
     "output_type": "execute_result"
    }
   ],
   "source": [
    "df.describe()"
   ]
  },
  {
   "cell_type": "code",
   "execution_count": 34,
   "metadata": {
    "collapsed": true
   },
   "outputs": [],
   "source": [
    "Mileage = df[['Mileage']]\n",
    "Price = df['Price']"
   ]
  },
  {
   "cell_type": "code",
   "execution_count": 47,
   "metadata": {
    "collapsed": false
   },
   "outputs": [
    {
     "data": {
      "text/plain": [
       "LinearRegression(copy_X=True, fit_intercept=True, n_jobs=1, normalize=False)"
      ]
     },
     "execution_count": 47,
     "metadata": {},
     "output_type": "execute_result"
    }
   ],
   "source": [
    "regression = linear_model.LinearRegression()\n",
    "regression.fit(Mileage, Price)\n"
   ]
  },
  {
   "cell_type": "code",
   "execution_count": 36,
   "metadata": {
    "collapsed": false
   },
   "outputs": [
    {
     "name": "stdout",
     "output_type": "stream",
     "text": [
      "[-0.1725205] 24764.5590061\n"
     ]
    }
   ],
   "source": [
    "print(regression.coef_, regression.intercept_)\n"
   ]
  },
  {
   "cell_type": "code",
   "execution_count": 37,
   "metadata": {
    "collapsed": false
   },
   "outputs": [
    {
     "data": {
      "text/plain": [
       "0.020463447323489481"
      ]
     },
     "execution_count": 37,
     "metadata": {},
     "output_type": "execute_result"
    }
   ],
   "source": [
    "regression.score(Mileage, Price)"
   ]
  },
  {
   "cell_type": "code",
   "execution_count": 38,
   "metadata": {
    "collapsed": false
   },
   "outputs": [
    {
     "data": {
      "text/plain": [
       "[<matplotlib.lines.Line2D at 0x10b756198>]"
      ]
     },
     "execution_count": 38,
     "metadata": {},
     "output_type": "execute_result"
    },
    {
     "data": {
      "image/png": "[encoded data removed]",
      "text/plain": [
       "<matplotlib.figure.Figure at 0x10b756208>"
      ]
     },
     "metadata": {},
     "output_type": "display_data"
    }
   ],
   "source": [
    "fn = lambda x: regression.predict(x)[0]\n",
    "\n",
    "plt.scatter(Mileage, Price)\n",
    "xmin, xmax = plt.xlim()\n",
    "xs = np.linspace(xmin, xmax, 100)\n",
    "plt.plot(xs, [fn(x) for x in xs])"
   ]
  },
  {
   "cell_type": "markdown",
   "metadata": {},
   "source": [
    "#Part 2:"
   ]
  },
  {
   "cell_type": "code",
   "execution_count": 39,
   "metadata": {
    "collapsed": true
   },
   "outputs": [],
   "source": [
    "multiple_regression = linear_model.LinearRegression()\n"
   ]
  },
  {
   "cell_type": "code",
   "execution_count": 46,
   "metadata": {
    "collapsed": false
   },
   "outputs": [],
   "source": [
    "combinations = df[['Mileage', 'Cylinder', 'Liter', 'Doors', 'Cruise', 'Sound','Leather']]\n",
    "Price = df['Price']"
   ]
  },
  {
   "cell_type": "code",
   "execution_count": 49,
   "metadata": {
    "collapsed": false
   },
   "outputs": [
    {
     "data": {
      "text/plain": [
       "LinearRegression(copy_X=True, fit_intercept=True, n_jobs=1, normalize=False)"
      ]
     },
     "execution_count": 49,
     "metadata": {},
     "output_type": "execute_result"
    }
   ],
   "source": [
    "multiple_regression.fit(combinations, Price)"
   ]
  },
  {
   "cell_type": "code",
   "execution_count": 50,
   "metadata": {
    "collapsed": false
   },
   "outputs": [
    {
     "name": "stdout",
     "output_type": "stream",
     "text": [
      "[ -1.69747832e-01   3.79237893e+03  -7.87220732e+02  -1.54274585e+03\n",
      "   6.28899715e+03  -1.99379528e+03   3.34936162e+03] 6758.7551436\n"
     ]
    }
   ],
   "source": [
    "print(multiple_regression.coef_, multiple_regression.intercept_)"
   ]
  },
  {
   "cell_type": "code",
   "execution_count": 51,
   "metadata": {
    "collapsed": false
   },
   "outputs": [
    {
     "data": {
      "text/plain": [
       "0.4462643536728379"
      ]
     },
     "execution_count": 51,
     "metadata": {},
     "output_type": "execute_result"
    }
   ],
   "source": [
    "multiple_regression.score(combinations, Price)"
   ]
  },
  {
   "cell_type": "code",
   "execution_count": 53,
   "metadata": {
    "collapsed": false
   },
   "outputs": [],
   "source": [
    "import itertools\n",
    "dependent_vars = list(df.columns)\n",
    "dependent_vars.remove('Price')\n",
    "combos = list(itertools.combinations(dependent_vars, 12))"
   ]
  },
  {
   "cell_type": "code",
   "execution_count": 55,
   "metadata": {
    "collapsed": false
   },
   "outputs": [
    {
     "ename": "IndexError",
     "evalue": "list index out of range",
     "output_type": "error",
     "traceback": [
      "\u001b[0;31m---------------------------------------------------------------------------\u001b[0m",
      "\u001b[0;31mIndexError\u001b[0m                                Traceback (most recent call last)",
      "\u001b[0;32m<ipython-input-55-b6fcf33d8811>\u001b[0m in \u001b[0;36m<module>\u001b[0;34m()\u001b[0m\n\u001b[1;32m     15\u001b[0m     \u001b[0mchoices\u001b[0m\u001b[0;34m.\u001b[0m\u001b[0mappend\u001b[0m\u001b[0;34m(\u001b[0m\u001b[0;34m(\u001b[0m\u001b[0mcombo\u001b[0m\u001b[0;34m,\u001b[0m \u001b[0mscore\u001b[0m\u001b[0;34m)\u001b[0m\u001b[0;34m)\u001b[0m\u001b[0;34m\u001b[0m\u001b[0m\n\u001b[1;32m     16\u001b[0m \u001b[0;34m\u001b[0m\u001b[0m\n\u001b[0;32m---> 17\u001b[0;31m \u001b[0mbest\u001b[0m \u001b[0;34m=\u001b[0m \u001b[0msorted\u001b[0m\u001b[0;34m(\u001b[0m\u001b[0mchoices\u001b[0m\u001b[0;34m,\u001b[0m \u001b[0mkey\u001b[0m\u001b[0;34m=\u001b[0m\u001b[0;32mlambda\u001b[0m \u001b[0mx\u001b[0m\u001b[0;34m:\u001b[0m \u001b[0mx\u001b[0m\u001b[0;34m[\u001b[0m\u001b[0;36m1\u001b[0m\u001b[0;34m]\u001b[0m\u001b[0;34m)\u001b[0m\u001b[0;34m[\u001b[0m\u001b[0;34m-\u001b[0m\u001b[0;36m1\u001b[0m\u001b[0;34m]\u001b[0m\u001b[0;34m\u001b[0m\u001b[0m\n\u001b[0m\u001b[1;32m     18\u001b[0m \u001b[0mprint\u001b[0m\u001b[0;34m(\u001b[0m\u001b[0mbest\u001b[0m\u001b[0;34m)\u001b[0m\u001b[0;34m\u001b[0m\u001b[0m\n\u001b[1;32m     19\u001b[0m \u001b[0mregr\u001b[0m\u001b[0;34m,\u001b[0m \u001b[0mscore\u001b[0m \u001b[0;34m=\u001b[0m \u001b[0mregression_for\u001b[0m\u001b[0;34m(\u001b[0m\u001b[0mbest\u001b[0m\u001b[0;34m[\u001b[0m\u001b[0;36m0\u001b[0m\u001b[0;34m]\u001b[0m\u001b[0;34m)\u001b[0m\u001b[0;34m\u001b[0m\u001b[0m\n",
      "\u001b[0;31mIndexError\u001b[0m: list index out of range"
     ]
    }
   ],
   "source": [
    "choices = []\n",
    "\n",
    "def regression_for(combo):\n",
    "    combo = list(combo)\n",
    "    df = df.loc[:, combo + ['Price']]\n",
    "    df.dropna(inplace=True)\n",
    "    input_data = df[combo]\n",
    "    price = df['Price']\n",
    "    regr = linear_model.LinearRegression()\n",
    "    regr.fit(combos, price)\n",
    "    return regr, regr.score(combos, price)\n",
    "\n",
    "for combo in combos:\n",
    "    regr, score = regression_for(combo)\n",
    "    choices.append((combo, score))\n",
    "                   \n",
    "best = sorted(choices, key=lambda x: x[1])[-1]\n",
    "print(best)\n",
    "regr, score = regression_for(best[0])\n",
    "print(regr.coef_, regr.intercept_)"
   ]
  },
  {
   "cell_type": "code",
   "execution_count": null,
   "metadata": {
    "collapsed": true
   },
   "outputs": [],
   "source": []
  }
 ],
 "metadata": {
  "kernelspec": {
   "display_name": "Python 3",
   "language": "python",
   "name": "python3"
  },
  "language_info": {
   "codemirror_mode": {
    "name": "ipython",
    "version": 3
   },
   "file_extension": ".py",
   "mimetype": "text/x-python",
   "name": "python",
   "nbconvert_exporter": "python",
   "pygments_lexer": "ipython3",
   "version": "3.4.3"
  }
 },
 "nbformat": 4,
 "nbformat_minor": 0
}
