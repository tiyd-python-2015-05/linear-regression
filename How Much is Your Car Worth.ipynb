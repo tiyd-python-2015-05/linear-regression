{
 "cells": [
  {
   "cell_type": "code",
   "execution_count": 79,
   "metadata": {
    "collapsed": true
   },
   "outputs": [],
   "source": [
    "import pandas as pd\n",
    "import matplotlib.pyplot as plt\n",
    "import numpy as np\n",
    "from sklearn import linear_model\n",
    "%matplotlib inline\n",
    "import random"
   ]
  },
  {
   "cell_type": "markdown",
   "metadata": {},
   "source": [
    "# How Much is Your Car Worth?\n",
    "\n",
    "Data about the retail price of 2005 General Motors cars can be found in `car_data.csv`.\n",
    "\n",
    "The columns are:\n",
    "\n",
    "1. Price: suggested retail price of the used 2005 GM car in excellent condition.\n",
    "2. Mileage: number of miles the car has been driven\n",
    "3. Make: manufacturer of the car such as Saturn, Pontiac, and Chevrolet\n",
    "4. Model: specific models for each car manufacturer such as Ion, Vibe, Cavalier\n",
    "5. Trim (of car): specific type of car model such as SE Sedan 4D, Quad Coupe 2D          \n",
    "6. Type: body type such as sedan, coupe, etc.      \n",
    "7. Cylinder: number of cylinders in the engine        \n",
    "8. Liter: a more specific measure of engine size     \n",
    "9. Doors: number of doors           \n",
    "10. Cruise: indicator variable representing whether the car has cruise control (1 = cruise)\n",
    "11. Sound: indicator variable representing whether the car has upgraded speakers (1 = upgraded)\n",
    "12. Leather: indicator variable representing whether the car has leather seats (1 = leather)\n",
    "\n",
    "## Tasks, Part 1\n",
    "\n",
    "1. Find the linear regression equation for mileage vs price.\n",
    "2. Chart the original data and the equation on the chart.\n",
    "3. Find the equation's $R^2$ score (use the `.score` method) to determine whether the\n",
    "equation is a good fit for this data. (0.8 and greater is considered a strong correlation.)\n",
    "\n",
    "## Tasks, Part 2\n",
    "\n",
    "1. Use mileage, cylinders, liters, doors, cruise, sound, and leather to find the linear regression equation.\n",
    "2. Find the equation's $R^2$ score (use the `.score` method) to determine whether the\n",
    "equation is a good fit for this data. (0.8 and greater is considered a strong correlation.)\n",
    "3. Find the combination of the factors that is the best predictor for price.\n",
    "\n",
    "## Tasks, Hard Mode\n",
    "\n",
    "1. Research dummy variables in scikit-learn to see how to use the make, model, and body type.\n",
    "2. Find the best combination of factors to predict price."
   ]
  },
  {
   "cell_type": "code",
   "execution_count": 80,
   "metadata": {
    "collapsed": false
   },
   "outputs": [],
   "source": [
    "df = pd.read_csv(\"car_data.csv\")"
   ]
  },
  {
   "cell_type": "code",
   "execution_count": 81,
   "metadata": {
    "collapsed": false
   },
   "outputs": [
    {
     "data": {
      "text/html": [
       "<div style=\"max-height:1000px;max-width:1500px;overflow:auto;\">\n",
       "<table border=\"1\" class=\"dataframe\">\n",
       "  <thead>\n",
       "    <tr style=\"text-align: right;\">\n",
       "      <th></th>\n",
       "      <th>Price</th>\n",
       "      <th>Mileage</th>\n",
       "      <th>Make</th>\n",
       "      <th>Model</th>\n",
       "      <th>Trim</th>\n",
       "      <th>Type</th>\n",
       "      <th>Cylinder</th>\n",
       "      <th>Liter</th>\n",
       "      <th>Doors</th>\n",
       "      <th>Cruise</th>\n",
       "      <th>Sound</th>\n",
       "      <th>Leather</th>\n",
       "    </tr>\n",
       "  </thead>\n",
       "  <tbody>\n",
       "    <tr>\n",
       "      <th>0</th>\n",
       "      <td>17314.103129</td>\n",
       "      <td>8221</td>\n",
       "      <td>Buick</td>\n",
       "      <td>Century</td>\n",
       "      <td>Sedan 4D</td>\n",
       "      <td>Sedan</td>\n",
       "      <td>6</td>\n",
       "      <td>3.1</td>\n",
       "      <td>4</td>\n",
       "      <td>1</td>\n",
       "      <td>1</td>\n",
       "      <td>1</td>\n",
       "    </tr>\n",
       "    <tr>\n",
       "      <th>1</th>\n",
       "      <td>17542.036083</td>\n",
       "      <td>9135</td>\n",
       "      <td>Buick</td>\n",
       "      <td>Century</td>\n",
       "      <td>Sedan 4D</td>\n",
       "      <td>Sedan</td>\n",
       "      <td>6</td>\n",
       "      <td>3.1</td>\n",
       "      <td>4</td>\n",
       "      <td>1</td>\n",
       "      <td>1</td>\n",
       "      <td>0</td>\n",
       "    </tr>\n",
       "    <tr>\n",
       "      <th>2</th>\n",
       "      <td>16218.847862</td>\n",
       "      <td>13196</td>\n",
       "      <td>Buick</td>\n",
       "      <td>Century</td>\n",
       "      <td>Sedan 4D</td>\n",
       "      <td>Sedan</td>\n",
       "      <td>6</td>\n",
       "      <td>3.1</td>\n",
       "      <td>4</td>\n",
       "      <td>1</td>\n",
       "      <td>1</td>\n",
       "      <td>0</td>\n",
       "    </tr>\n",
       "    <tr>\n",
       "      <th>3</th>\n",
       "      <td>16336.913140</td>\n",
       "      <td>16342</td>\n",
       "      <td>Buick</td>\n",
       "      <td>Century</td>\n",
       "      <td>Sedan 4D</td>\n",
       "      <td>Sedan</td>\n",
       "      <td>6</td>\n",
       "      <td>3.1</td>\n",
       "      <td>4</td>\n",
       "      <td>1</td>\n",
       "      <td>0</td>\n",
       "      <td>0</td>\n",
       "    </tr>\n",
       "    <tr>\n",
       "      <th>4</th>\n",
       "      <td>16339.170324</td>\n",
       "      <td>19832</td>\n",
       "      <td>Buick</td>\n",
       "      <td>Century</td>\n",
       "      <td>Sedan 4D</td>\n",
       "      <td>Sedan</td>\n",
       "      <td>6</td>\n",
       "      <td>3.1</td>\n",
       "      <td>4</td>\n",
       "      <td>1</td>\n",
       "      <td>0</td>\n",
       "      <td>1</td>\n",
       "    </tr>\n",
       "  </tbody>\n",
       "</table>\n",
       "</div>"
      ],
      "text/plain": [
       "          Price  Mileage   Make    Model      Trim   Type  Cylinder  Liter  \\\n",
       "0  17314.103129     8221  Buick  Century  Sedan 4D  Sedan         6    3.1   \n",
       "1  17542.036083     9135  Buick  Century  Sedan 4D  Sedan         6    3.1   \n",
       "2  16218.847862    13196  Buick  Century  Sedan 4D  Sedan         6    3.1   \n",
       "3  16336.913140    16342  Buick  Century  Sedan 4D  Sedan         6    3.1   \n",
       "4  16339.170324    19832  Buick  Century  Sedan 4D  Sedan         6    3.1   \n",
       "\n",
       "   Doors  Cruise  Sound  Leather  \n",
       "0      4       1      1        1  \n",
       "1      4       1      1        0  \n",
       "2      4       1      1        0  \n",
       "3      4       1      0        0  \n",
       "4      4       1      0        1  "
      ]
     },
     "execution_count": 81,
     "metadata": {},
     "output_type": "execute_result"
    }
   ],
   "source": [
    "df.head()"
   ]
  },
  {
   "cell_type": "code",
   "execution_count": 82,
   "metadata": {
    "collapsed": false
   },
   "outputs": [
    {
     "name": "stdout",
     "output_type": "stream",
     "text": [
      "-0.1725 x + 24764.559\n"
     ]
    }
   ],
   "source": [
    "car_array = np.asarray(df)\n",
    "regr = linear_model.LinearRegression()\n",
    "regr.fit(car_array[:,1:2], car_array[:,0])\n",
    "eqn_str = str(round(regr.coef_[0],4)) + \" x + \" + str(round(regr.intercept_,4))\n",
    "print(eqn_str)"
   ]
  },
  {
   "cell_type": "code",
   "execution_count": 83,
   "metadata": {
    "collapsed": false
   },
   "outputs": [
    {
     "data": {
      "image/png": "[encoded data removed]",
      "text/plain": [
       "<matplotlib.figure.Figure at 0x10ec8ab70>"
      ]
     },
     "metadata": {},
     "output_type": "display_data"
    }
   ],
   "source": [
    "plt.scatter(car_array[:,1:2], car_array[:,0], label=\"Actual Prices\")\n",
    "plt.plot(car_array[:,1:2], regr.predict(car_array[:,1:2]), label=\"Regression: \"+eqn_str)\n",
    "plt.title(\"Regression Line for Car Price vs Mileage\")\n",
    "plt.xlabel(\"Mileage (miles)\")\n",
    "plt.ylabel(\"Price (dollars)\")\n",
    "plt.legend(bbox_to_anchor=(1.05, 1), loc=2)\n",
    "plt.show()"
   ]
  },
  {
   "cell_type": "code",
   "execution_count": 84,
   "metadata": {
    "collapsed": false
   },
   "outputs": [
    {
     "data": {
      "text/plain": [
       "0.020463447323489481"
      ]
     },
     "execution_count": 84,
     "metadata": {},
     "output_type": "execute_result"
    }
   ],
   "source": [
    "regr.score(car_array[:,1:2], car_array[:,0])"
   ]
  },
  {
   "cell_type": "markdown",
   "metadata": {
    "collapsed": true
   },
   "source": [
    "This shows an extremely poor R^2 value, which is certainly related to the fact that the spread of car prices varries widely. It would be reasonably to say that this coefficient indicates that mileage alone cannot accurately estimate the price of the car. On the other hand, no one would dispute the simple claim that greater mileage reduces the price of a car, and this fact is reflected in the regression. So even a very poor fit contains meaningful information."
   ]
  },
  {
   "cell_type": "code",
   "execution_count": 85,
   "metadata": {
    "collapsed": true
   },
   "outputs": [],
   "source": [
    "part2_df = df[[\"Mileage\", \"Cylinder\", \"Liter\", \"Doors\", \"Cruise\", \"Sound\", \"Leather\"]] \n",
    "# mileage, cylinders, liters, doors, cruise, sound, and leather"
   ]
  },
  {
   "cell_type": "code",
   "execution_count": 86,
   "metadata": {
    "collapsed": false
   },
   "outputs": [
    {
     "name": "stdout",
     "output_type": "stream",
     "text": [
      "Mileage -0.169747832333 + Cylinder 3792.37893078 + Liter -787.220731634 + Doors -1542.74584638 + Cruise 6288.99714985 + Sound -1993.7952757 + Leather 3349.36161961 + 6758.7551436\n"
     ]
    }
   ],
   "source": [
    "part2_array = np.asarray(part2_df)\n",
    "price = car_array[:,0]\n",
    "regr = linear_model.LinearRegression()\n",
    "regr.fit(part2_array, price)\n",
    "c_vals = regr.coef_\n",
    "eqn_str = \"\"\n",
    "for i in range(7):\n",
    "    eqn_str += str(part2_df.columns[i]) + \" \" + str(c_vals[i]) + \" + \"\n",
    "eqn_str += str(regr.intercept_)\n",
    "print(eqn_str)"
   ]
  },
  {
   "cell_type": "code",
   "execution_count": 87,
   "metadata": {
    "collapsed": false
   },
   "outputs": [
    {
     "name": "stdout",
     "output_type": "stream",
     "text": [
      "[19831.93407960199, 5.2686567164179108, 3.0373134328358211, 3.527363184079602, 0.75248756218905477, 0.67910447761194026, 0.72388059701492535]\n"
     ]
    }
   ],
   "source": [
    "mean_val = []\n",
    "for i in range(7):\n",
    "    mean_val.append(part2_array[:,i].mean())\n",
    "print(mean_val)"
   ]
  },
  {
   "cell_type": "code",
   "execution_count": 88,
   "metadata": {
    "collapsed": false
   },
   "outputs": [
    {
     "data": {
      "text/plain": [
       "array([ 21343.14376733])"
      ]
     },
     "execution_count": 88,
     "metadata": {},
     "output_type": "execute_result"
    }
   ],
   "source": [
    "regr.predict(mean_val) # predicted price for a car with ordinary parameters"
   ]
  },
  {
   "cell_type": "code",
   "execution_count": 89,
   "metadata": {
    "collapsed": false
   },
   "outputs": [
    {
     "data": {
      "text/plain": [
       "0.4462643536728379"
      ]
     },
     "execution_count": 89,
     "metadata": {},
     "output_type": "execute_result"
    }
   ],
   "source": [
    "regr.score(part2_array, price)"
   ]
  },
  {
   "cell_type": "markdown",
   "metadata": {},
   "source": [
    "This approach (of correlating several independent factors) gives a much better correlation score, but it is still a far cry from 0.8 for statistical significance."
   ]
  },
  {
   "cell_type": "markdown",
   "metadata": {},
   "source": [
    "## Effective combinations of properties"
   ]
  },
  {
   "cell_type": "code",
   "execution_count": 90,
   "metadata": {
    "collapsed": true
   },
   "outputs": [],
   "source": [
    "import itertools"
   ]
  },
  {
   "cell_type": "code",
   "execution_count": 91,
   "metadata": {
    "collapsed": false
   },
   "outputs": [
    {
     "data": {
      "text/plain": [
       "['Mileage', 'Cylinder', 'Cruise']"
      ]
     },
     "execution_count": 91,
     "metadata": {},
     "output_type": "execute_result"
    }
   ],
   "source": [
    "list(list(itertools.combinations(list(part2_df.columns), 3))[2]) # this demonstrates how to get combinations"
   ]
  },
  {
   "cell_type": "code",
   "execution_count": 92,
   "metadata": {
    "collapsed": true
   },
   "outputs": [],
   "source": [
    "def run_combs(N):\n",
    "    max_s = 0\n",
    "    max_i = 0\n",
    "    combs = list(itertools.combinations(list(part2_df.columns), N))\n",
    "    for i in range(len(combs)):\n",
    "        cols = combs[i]\n",
    "        part3_df = df[list(cols)]\n",
    "        part3_array = np.asarray(part3_df)\n",
    "        regr = linear_model.LinearRegression()\n",
    "        regr.fit(part3_array, price)\n",
    "        s = regr.score(part3_array, price)\n",
    "        if s > max_s:\n",
    "            max_s = s\n",
    "            max_i = i\n",
    "        print(str(list(cols))+\"   \"+str(s))\n",
    "    print(\" \")\n",
    "    print(\" maximum correlation\")\n",
    "    print(str(list(combs[max_i]))+\" \"+str(max_s))"
   ]
  },
  {
   "cell_type": "code",
   "execution_count": 93,
   "metadata": {
    "collapsed": false
   },
   "outputs": [
    {
     "name": "stdout",
     "output_type": "stream",
     "text": [
      "['Mileage', 'Cylinder']   0.339820708264\n",
      "['Mileage', 'Liter']   0.329127906685\n",
      "['Mileage', 'Doors']   0.0403991486712\n",
      "['Mileage', 'Cruise']   0.209313855832\n",
      "['Mileage', 'Sound']   0.0368812159674\n",
      "['Mileage', 'Leather']   0.0452195634089\n",
      "['Cylinder', 'Liter']   0.325915516016\n",
      "['Cylinder', 'Doors']   0.343460536583\n",
      "['Cylinder', 'Cruise']   0.383949132403\n",
      "['Cylinder', 'Sound']   0.32927527348\n",
      "['Cylinder', 'Leather']   0.33698000645\n",
      "['Liter', 'Doors']   0.320515640777\n",
      "['Liter', 'Cruise']   0.36804584903\n",
      "['Liter', 'Sound']   0.319264276395\n",
      "['Liter', 'Leather']   0.323379171899\n",
      "['Doors', 'Cruise']   0.199638246892\n",
      "['Doors', 'Sound']   0.037016287709\n",
      "['Doors', 'Leather']   0.0414181734687\n",
      "['Cruise', 'Sound']   0.192889480669\n",
      "['Cruise', 'Leather']   0.221004205218\n",
      "['Sound', 'Leather']   0.0479536909208\n",
      " \n",
      " maximum correlation\n",
      "['Cylinder', 'Cruise'] 0.383949132403\n"
     ]
    }
   ],
   "source": [
    "run_combs(2)"
   ]
  },
  {
   "cell_type": "code",
   "execution_count": 94,
   "metadata": {
    "collapsed": false
   },
   "outputs": [
    {
     "name": "stdout",
     "output_type": "stream",
     "text": [
      "['Mileage', 'Cylinder', 'Liter']   0.342280211787\n",
      "['Mileage', 'Cylinder', 'Doors']   0.360029918965\n",
      "['Mileage', 'Cylinder', 'Cruise']   0.402374586032\n",
      "['Mileage', 'Cylinder', 'Sound']   0.345793039452\n",
      "['Mileage', 'Cylinder', 'Leather']   0.353035789318\n",
      "['Mileage', 'Liter', 'Doors']   0.338591027665\n",
      "['Mileage', 'Liter', 'Cruise']   0.387923983906\n",
      "['Mileage', 'Liter', 'Sound']   0.337525245264\n",
      "['Mileage', 'Liter', 'Leather']   0.341056916186\n",
      "['Mileage', 'Doors', 'Cruise']   0.223903140764\n",
      "['Mileage', 'Doors', 'Sound']   0.0592505439204\n",
      "['Mileage', 'Doors', 'Leather']   0.0625639212199\n",
      "['Mileage', 'Cruise', 'Sound']   0.217216569068\n",
      "['Mileage', 'Cruise', 'Leather']   0.244846434415\n",
      "['Mileage', 'Sound', 'Leather']   0.0696594062244\n",
      "['Cylinder', 'Liter', 'Doors']   0.343495478069\n",
      "['Cylinder', 'Liter', 'Cruise']   0.384062200852\n",
      "['Cylinder', 'Liter', 'Sound']   0.331848604532\n",
      "['Cylinder', 'Liter', 'Leather']   0.338532693616\n",
      "['Cylinder', 'Doors', 'Cruise']   0.400198907955\n",
      "['Cylinder', 'Doors', 'Sound']   0.350269933013\n",
      "['Cylinder', 'Doors', 'Leather']   0.354702613001\n",
      "['Cylinder', 'Cruise', 'Sound']   0.38730580223\n",
      "['Cylinder', 'Cruise', 'Leather']   0.40380272694\n",
      "['Cylinder', 'Sound', 'Leather']   0.345985332754\n",
      "['Liter', 'Doors', 'Cruise']   0.376191680535\n",
      "['Liter', 'Doors', 'Sound']   0.329471966991\n",
      "['Liter', 'Doors', 'Leather']   0.331284453853\n",
      "['Liter', 'Cruise', 'Sound']   0.373074559614\n",
      "['Liter', 'Cruise', 'Leather']   0.386655059377\n",
      "['Liter', 'Sound', 'Leather']   0.335114070765\n",
      "['Doors', 'Cruise', 'Sound']   0.208353688885\n",
      "['Doors', 'Cruise', 'Leather']   0.232291202952\n",
      "['Doors', 'Sound', 'Leather']   0.0668731331619\n",
      "['Cruise', 'Sound', 'Leather']   0.234644063405\n",
      " \n",
      " maximum correlation\n",
      "['Cylinder', 'Cruise', 'Leather'] 0.40380272694\n"
     ]
    }
   ],
   "source": [
    "run_combs(3)"
   ]
  },
  {
   "cell_type": "code",
   "execution_count": 95,
   "metadata": {
    "collapsed": false
   },
   "outputs": [
    {
     "name": "stdout",
     "output_type": "stream",
     "text": [
      "['Mileage', 'Cylinder', 'Liter', 'Doors']   0.360125063303\n",
      "['Mileage', 'Cylinder', 'Liter', 'Cruise']   0.402584261892\n",
      "['Mileage', 'Cylinder', 'Liter', 'Sound']   0.348854652244\n",
      "['Mileage', 'Cylinder', 'Liter', 'Leather']   0.354940443056\n",
      "['Mileage', 'Cylinder', 'Doors', 'Cruise']   0.419149645107\n",
      "['Mileage', 'Cylinder', 'Doors', 'Sound']   0.367499129697\n",
      "['Mileage', 'Cylinder', 'Doors', 'Leather']   0.371331998385\n",
      "['Mileage', 'Cylinder', 'Cruise', 'Sound']   0.406164498263\n",
      "['Mileage', 'Cylinder', 'Cruise', 'Leather']   0.422507421477\n",
      "['Mileage', 'Cylinder', 'Sound', 'Leather']   0.362784103786\n",
      "['Mileage', 'Liter', 'Doors', 'Cruise']   0.396532669801\n",
      "['Mileage', 'Liter', 'Doors', 'Sound']   0.348302227867\n",
      "['Mileage', 'Liter', 'Doors', 'Leather']   0.349405179718\n",
      "['Mileage', 'Liter', 'Cruise', 'Sound']   0.393468491422\n",
      "['Mileage', 'Liter', 'Cruise', 'Leather']   0.40678789687\n",
      "['Mileage', 'Liter', 'Sound', 'Leather']   0.353631538185\n",
      "['Mileage', 'Doors', 'Cruise', 'Sound']   0.233369202886\n",
      "['Mileage', 'Doors', 'Cruise', 'Leather']   0.256654781261\n",
      "['Mileage', 'Doors', 'Sound', 'Leather']   0.0893370937937\n",
      "['Mileage', 'Cruise', 'Sound', 'Leather']   0.259401385657\n",
      "['Cylinder', 'Liter', 'Doors', 'Cruise']   0.400874869327\n",
      "['Cylinder', 'Liter', 'Doors', 'Sound']   0.350381218161\n",
      "['Cylinder', 'Liter', 'Doors', 'Leather']   0.354706889409\n",
      "['Cylinder', 'Liter', 'Cruise', 'Sound']   0.387543121674\n",
      "['Cylinder', 'Liter', 'Cruise', 'Leather']   0.403803764258\n",
      "['Cylinder', 'Liter', 'Sound', 'Leather']   0.348055839375\n",
      "['Cylinder', 'Doors', 'Cruise', 'Sound']   0.404623070987\n",
      "['Cylinder', 'Doors', 'Cruise', 'Leather']   0.417760273702\n",
      "['Cylinder', 'Doors', 'Sound', 'Leather']   0.365117003562\n",
      "['Cylinder', 'Cruise', 'Sound', 'Leather']   0.410654941586\n",
      "['Liter', 'Doors', 'Cruise', 'Sound']   0.382180877766\n",
      "['Liter', 'Doors', 'Cruise', 'Leather']   0.39345887351\n",
      "['Liter', 'Doors', 'Sound', 'Leather']   0.344239758076\n",
      "['Liter', 'Cruise', 'Sound', 'Leather']   0.395642607366\n",
      "['Doors', 'Cruise', 'Sound', 'Leather']   0.247449134958\n",
      " \n",
      " maximum correlation\n",
      "['Mileage', 'Cylinder', 'Cruise', 'Leather'] 0.422507421477\n"
     ]
    }
   ],
   "source": [
    "run_combs(4)"
   ]
  },
  {
   "cell_type": "markdown",
   "metadata": {},
   "source": [
    "I find it somewhat suspicious that mileage is only the 4th best variable at predicting the car's value. We probably have a common-cause at the root of this. Car makers are just more likely to put leather in a car which has a high value. Both cylinders and cruise control are variables which are very obvious in car marketing. It is extremely telling that cylinder had a powerful predictive value while liters (which is a more accurate measure) doesn't perform as well."
   ]
  },
  {
   "cell_type": "code",
   "execution_count": null,
   "metadata": {
    "collapsed": true
   },
   "outputs": [],
   "source": []
  },
  {
   "cell_type": "markdown",
   "metadata": {
    "collapsed": true
   },
   "source": [
    "## Hard mode"
   ]
  },
  {
   "cell_type": "code",
   "execution_count": 96,
   "metadata": {
    "collapsed": false
   },
   "outputs": [
    {
     "data": {
      "text/plain": [
       "Chevrolet    320\n",
       "Pontiac      150\n",
       "SAAB         114\n",
       "Cadillac      80\n",
       "Buick         80\n",
       "Saturn        60\n",
       "dtype: int64"
      ]
     },
     "execution_count": 96,
     "metadata": {},
     "output_type": "execute_result"
    }
   ],
   "source": [
    "# to begin with, what kind of data are we working with?\n",
    "df[\"Make\"].value_counts()"
   ]
  },
  {
   "cell_type": "code",
   "execution_count": 97,
   "metadata": {
    "collapsed": false
   },
   "outputs": [],
   "source": [
    "lex = [\"Make\", \"Model\", \"Trim\", \"Type\"]"
   ]
  },
  {
   "cell_type": "code",
   "execution_count": 98,
   "metadata": {
    "collapsed": false
   },
   "outputs": [
    {
     "name": "stdout",
     "output_type": "stream",
     "text": [
      "Make number: 6\n",
      "Model number: 32\n",
      "Trim number: 47\n",
      "Type number: 5\n"
     ]
    }
   ],
   "source": [
    "for i in range(len(lex)):\n",
    "    print(lex[i]+\" number: \"+str(len(df[lex[i]].value_counts())))"
   ]
  },
  {
   "cell_type": "markdown",
   "metadata": {},
   "source": [
    "Since these are much more diverse than just a binary selection, a simplistic method won't work."
   ]
  },
  {
   "cell_type": "code",
   "execution_count": 99,
   "metadata": {
    "collapsed": false
   },
   "outputs": [],
   "source": [
    "new_cols = []\n",
    "for i in range(len(lex)):\n",
    "    coli = []\n",
    "    for j in range(len(df[lex[i]].value_counts())):\n",
    "        coli.append(df[lex[i]].value_counts().keys()[j])\n",
    "    new_cols.append(coli)"
   ]
  },
  {
   "cell_type": "code",
   "execution_count": 100,
   "metadata": {
    "collapsed": false
   },
   "outputs": [],
   "source": [
    "for i in range(len(new_cols)):\n",
    "    for j in range(len(new_cols[i])):\n",
    "        df[new_cols[i][j]] = (df[lex[i]] == new_cols[i][j])"
   ]
  },
  {
   "cell_type": "code",
   "execution_count": 101,
   "metadata": {
    "collapsed": false
   },
   "outputs": [],
   "source": [
    "for i in range(len(lex)):\n",
    "    df = df.drop(lex[i], axis=1)"
   ]
  },
  {
   "cell_type": "code",
   "execution_count": 102,
   "metadata": {
    "collapsed": false
   },
   "outputs": [
    {
     "data": {
      "text/plain": [
       "804"
      ]
     },
     "execution_count": 102,
     "metadata": {},
     "output_type": "execute_result"
    }
   ],
   "source": [
    "len(df)"
   ]
  },
  {
   "cell_type": "code",
   "execution_count": 115,
   "metadata": {
    "collapsed": false,
    "scrolled": true
   },
   "outputs": [],
   "source": [
    "rows = np.random.choice(df.index.values, 300)\n",
    "test_set = df.ix[rows]\n",
    "train_set = df.drop(df.index[rows])"
   ]
  },
  {
   "cell_type": "code",
   "execution_count": 116,
   "metadata": {
    "collapsed": false
   },
   "outputs": [
    {
     "data": {
      "text/plain": [
       "LinearRegression(copy_X=True, fit_intercept=True, n_jobs=1, normalize=False)"
      ]
     },
     "execution_count": 116,
     "metadata": {},
     "output_type": "execute_result"
    }
   ],
   "source": [
    "train_array = np.asarray(train_set)\n",
    "regr = linear_model.LinearRegression()\n",
    "regr.fit(train_array[:,1:], train_array[:,0])"
   ]
  },
  {
   "cell_type": "code",
   "execution_count": 117,
   "metadata": {
    "collapsed": false
   },
   "outputs": [
    {
     "data": {
      "text/plain": [
       "97"
      ]
     },
     "execution_count": 117,
     "metadata": {},
     "output_type": "execute_result"
    }
   ],
   "source": [
    "len(regr.coef_)"
   ]
  },
  {
   "cell_type": "code",
   "execution_count": 118,
   "metadata": {
    "collapsed": true
   },
   "outputs": [],
   "source": [
    "test_array =  np.asarray(test_set)"
   ]
  },
  {
   "cell_type": "code",
   "execution_count": 119,
   "metadata": {
    "collapsed": false
   },
   "outputs": [
    {
     "data": {
      "text/plain": [
       "0.99300990258900645"
      ]
     },
     "execution_count": 119,
     "metadata": {},
     "output_type": "execute_result"
    }
   ],
   "source": [
    "regr.score(train_array[:,1:], train_array[:,0]) # very good score for training data"
   ]
  },
  {
   "cell_type": "code",
   "execution_count": 120,
   "metadata": {
    "collapsed": false
   },
   "outputs": [
    {
     "data": {
      "text/plain": [
       "0.99064174523702997"
      ]
     },
     "execution_count": 120,
     "metadata": {},
     "output_type": "execute_result"
    }
   ],
   "source": [
    "regr.score(test_array[:,1:], test_array[:,0]) # kind of bad score for test data"
   ]
  },
  {
   "cell_type": "code",
   "execution_count": null,
   "metadata": {
    "collapsed": true
   },
   "outputs": [],
   "source": []
  },
  {
   "cell_type": "code",
   "execution_count": null,
   "metadata": {
    "collapsed": true
   },
   "outputs": [],
   "source": []
  },
  {
   "cell_type": "code",
   "execution_count": null,
   "metadata": {
    "collapsed": true
   },
   "outputs": [],
   "source": []
  }
 ],
 "metadata": {
  "kernelspec": {
   "display_name": "Python 3",
   "language": "python",
   "name": "python3"
  },
  "language_info": {
   "codemirror_mode": {
    "name": "ipython",
    "version": 3
   },
   "file_extension": ".py",
   "mimetype": "text/x-python",
   "name": "python",
   "nbconvert_exporter": "python",
   "pygments_lexer": "ipython3",
   "version": "3.4.3"
  }
 },
 "nbformat": 4,
 "nbformat_minor": 0
}
