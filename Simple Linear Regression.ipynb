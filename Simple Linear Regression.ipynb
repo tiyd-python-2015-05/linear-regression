{
 "cells": [
  {
   "cell_type": "code",
   "execution_count": 48,
   "metadata": {
    "collapsed": false
   },
   "outputs": [],
   "source": [
    "import pandas as pd\n",
    "import matplotlib.pyplot as plt\n",
    "import math\n",
    "import numpy as np\n",
    "from sklearn import linear_model\n",
    "import sklearn\n",
    "%matplotlib inline"
   ]
  },
  {
   "cell_type": "markdown",
   "metadata": {},
   "source": [
    "## Ground Cricket Chirps\n",
    "\n",
    "In _The Song of Insects_ (1948) by George W. Pierce, Pierce mechanically measured the frequency (the number of wing vibrations per second) of chirps (or pulses of sound) made by a striped ground cricket, at various ground temperatures.  Since crickets are ectotherms (cold-blooded), the rate of their physiological processes and their overall metabolism are influenced by temperature.  Consequently, there is reason to believe that temperature would have a profound effect on aspects of their behavior, such as chirp frequency.\n",
    "\n",
    "In general, it was found that crickets did not sing at temperatures colder than 60º F. or warmer than 100º F."
   ]
  },
  {
   "cell_type": "code",
   "execution_count": 49,
   "metadata": {
    "collapsed": false
   },
   "outputs": [],
   "source": [
    "ground_cricket_data = {\"Chirps/Second\": [20.0, 16.0, 19.8, 18.4, 17.1, 15.5, 14.7,\n",
    "                                         15.7, 15.4, 16.3, 15.0, 17.2, 16.0, 17.0,\n",
    "                                         14.4],\n",
    "                       \"Ground Temperature\": [88.6, 71.6, 93.3, 84.3, 80.6, 75.2, 69.7,\n",
    "                                              71.6, 69.4, 83.3, 79.6, 82.6, 80.6, 83.5,\n",
    "                                              76.3]}\n",
    "df = pd.DataFrame(ground_cricket_data)"
   ]
  },
  {
   "cell_type": "markdown",
   "metadata": {},
   "source": [
    "### Tasks\n",
    "\n",
    "1. Find the linear regression equation for this data.\n",
    "2. Chart the original data and the equation on the chart.\n",
    "3. Find the equation's $R^2$ score (use the `.score` method) to determine whether the\n",
    "equation is a good fit for this data. (0.8 and greater is considered a strong correlation.)\n",
    "4. Extrapolate data:  If the ground temperature reached 95, then at what approximate rate would you expect the crickets to be chirping?\n",
    "5. Interpolate data:  With a listening device, you discovered that on a particular morning the crickets were chirping at a rate of 18 chirps per second.  What was the approximate ground temperature that morning? "
   ]
  },
  {
   "cell_type": "code",
   "execution_count": 50,
   "metadata": {
    "collapsed": false
   },
   "outputs": [],
   "source": [
    "cricket_array = np.asarray(df)"
   ]
  },
  {
   "cell_type": "code",
   "execution_count": 51,
   "metadata": {
    "collapsed": false
   },
   "outputs": [
    {
     "data": {
      "text/plain": [
       "array([[ 88.6],\n",
       "       [ 71.6],\n",
       "       [ 93.3],\n",
       "       [ 84.3],\n",
       "       [ 80.6],\n",
       "       [ 75.2],\n",
       "       [ 69.7],\n",
       "       [ 71.6],\n",
       "       [ 69.4],\n",
       "       [ 83.3],\n",
       "       [ 79.6],\n",
       "       [ 82.6],\n",
       "       [ 80.6],\n",
       "       [ 83.5],\n",
       "       [ 76.3]])"
      ]
     },
     "execution_count": 51,
     "metadata": {},
     "output_type": "execute_result"
    }
   ],
   "source": [
    "cricket_array[:,1:]"
   ]
  },
  {
   "cell_type": "code",
   "execution_count": 52,
   "metadata": {
    "collapsed": false
   },
   "outputs": [
    {
     "data": {
      "text/plain": [
       "LinearRegression(copy_X=True, fit_intercept=True, n_jobs=1, normalize=False)"
      ]
     },
     "execution_count": 52,
     "metadata": {},
     "output_type": "execute_result"
    }
   ],
   "source": [
    "regr = linear_model.LinearRegression()\n",
    "regr.fit(cricket_array[:,1:], cricket_array[:,0])"
   ]
  },
  {
   "cell_type": "code",
   "execution_count": 53,
   "metadata": {
    "collapsed": false
   },
   "outputs": [
    {
     "name": "stdout",
     "output_type": "stream",
     "text": [
      "0.203 x + 0.4593\n"
     ]
    }
   ],
   "source": [
    "eqn_str = str(round(regr.coef_[0],4)) + \" x + \" + str(round(regr.intercept_,4))\n",
    "print(eqn_str)"
   ]
  },
  {
   "cell_type": "code",
   "execution_count": 54,
   "metadata": {
    "collapsed": false
   },
   "outputs": [
    {
     "data": {
      "text/plain": [
       "0.45931464523595977"
      ]
     },
     "execution_count": 54,
     "metadata": {},
     "output_type": "execute_result"
    }
   ],
   "source": [
    "regr.intercept_"
   ]
  },
  {
   "cell_type": "code",
   "execution_count": 55,
   "metadata": {
    "collapsed": false
   },
   "outputs": [
    {
     "data": {
      "text/plain": [
       "array([ 18.44509085,  14.99409541,  19.39918959,  17.572192  ,\n",
       "        16.821093  ,  15.72489445,  14.60839592,  14.99409541,\n",
       "        14.547496  ,  17.36919227,  16.61809327,  17.22709246,\n",
       "        16.821093  ,  17.40979222,  15.94819415])"
      ]
     },
     "execution_count": 55,
     "metadata": {},
     "output_type": "execute_result"
    }
   ],
   "source": [
    "regr.predict(cricket_array[:,1:])"
   ]
  },
  {
   "cell_type": "code",
   "execution_count": 56,
   "metadata": {
    "collapsed": false
   },
   "outputs": [
    {
     "data": {
      "image/png": "[encoded data removed]",
      "text/plain": [
       "<matplotlib.figure.Figure at 0x1164e7e80>"
      ]
     },
     "metadata": {},
     "output_type": "display_data"
    }
   ],
   "source": [
    "plt.scatter(cricket_array[:,1], cricket_array[:,0], label=\"Experiement data\")\n",
    "plt.plot(cricket_array[:,1], regr.predict(cricket_array[:,1:]), label=\"Regression: \"+eqn_str)\n",
    "plt.title(\"Regression Line for Cricket Data\")\n",
    "plt.xlabel(\"Ground Temperature (F)\")\n",
    "plt.ylabel(\"Cricket Chirps per Second (1/s)\")\n",
    "plt.legend(bbox_to_anchor=(1.05, 1), loc=2)\n",
    "plt.show()"
   ]
  },
  {
   "cell_type": "code",
   "execution_count": 57,
   "metadata": {
    "collapsed": false
   },
   "outputs": [
    {
     "data": {
      "text/plain": [
       "0.69229465291469983"
      ]
     },
     "execution_count": 57,
     "metadata": {},
     "output_type": "execute_result"
    }
   ],
   "source": [
    "regr.score(cricket_array[:,1:], cricket_array[:,0])"
   ]
  },
  {
   "cell_type": "markdown",
   "metadata": {},
   "source": [
    "This is not considered a good fit, although it might be considered to constitute a weak correlation."
   ]
  },
  {
   "cell_type": "code",
   "execution_count": 58,
   "metadata": {
    "collapsed": false
   },
   "outputs": [
    {
     "data": {
      "text/plain": [
       "array([ 19.74428913])"
      ]
     },
     "execution_count": 58,
     "metadata": {},
     "output_type": "execute_result"
    }
   ],
   "source": [
    "regr.predict(95)"
   ]
  },
  {
   "cell_type": "markdown",
   "metadata": {},
   "source": [
    "If the ground temperature reached 90 degrees F, then the crickets might chrip at a rate of around 19.7 Hz"
   ]
  },
  {
   "cell_type": "code",
   "execution_count": 59,
   "metadata": {
    "collapsed": true
   },
   "outputs": [],
   "source": [
    "# when does it hit 18 chirps per second? I guess we have to make a root finder!\n",
    "def predict_temp(freq):\n",
    "    T = 80\n",
    "    e = 1.\n",
    "    delta = 0.01\n",
    "    n = 0\n",
    "    while e > 0.001:\n",
    "        n += 1\n",
    "        dfdT = (regr.predict(T+delta)[0] - regr.predict(T-delta)[0])/(2*delta)\n",
    "        e = regr.predict(T)[0] - freq\n",
    "        T += - e / dfdT\n",
    "        if n > 20:\n",
    "            print(\"error\")\n",
    "            break\n",
    "    return T"
   ]
  },
  {
   "cell_type": "code",
   "execution_count": 60,
   "metadata": {
    "collapsed": false
   },
   "outputs": [
    {
     "data": {
      "text/plain": [
       "86.407431345486287"
      ]
     },
     "execution_count": 60,
     "metadata": {},
     "output_type": "execute_result"
    }
   ],
   "source": [
    "predict_temp(18)"
   ]
  },
  {
   "cell_type": "markdown",
   "metadata": {},
   "source": [
    "If the frequency is 18 chirps per second, then the temperature is likely to be about 86.4 degrees F"
   ]
  },
  {
   "cell_type": "code",
   "execution_count": null,
   "metadata": {
    "collapsed": true
   },
   "outputs": [],
   "source": []
  },
  {
   "cell_type": "code",
   "execution_count": null,
   "metadata": {
    "collapsed": true
   },
   "outputs": [],
   "source": []
  },
  {
   "cell_type": "markdown",
   "metadata": {},
   "source": [
    "## Brain vs. Body Weight\n",
    "\n",
    "In the file `brain_body.txt`, the average brain and body weight for a number of mammal species are recorded. Load this data into a Pandas data frame.\n",
    "\n",
    "### Tasks\n",
    "\n",
    "1. Find the linear regression equation for this data for brain weight to body weight.\n",
    "2. Chart the original data and the equation on the chart.\n",
    "3. Find the equation's $R^2$ score (use the `.score` method) to determine whether the\n",
    "equation is a good fit for this data. (0.8 and greater is considered a strong correlation.)"
   ]
  },
  {
   "cell_type": "code",
   "execution_count": 61,
   "metadata": {
    "collapsed": false
   },
   "outputs": [],
   "source": [
    "df = pd.read_fwf(\"brain_body.txt\")"
   ]
  },
  {
   "cell_type": "code",
   "execution_count": 62,
   "metadata": {
    "collapsed": false
   },
   "outputs": [
    {
     "name": "stdout",
     "output_type": "stream",
     "text": [
      "0.9029 x + -56.8555\n"
     ]
    }
   ],
   "source": [
    "brain_array = np.asarray(df)\n",
    "regr = linear_model.LinearRegression()\n",
    "regr.fit(brain_array[:,1:], brain_array[:,0])\n",
    "eqn_str = str(round(regr.coef_[0],4)) + \" x + \" + str(round(regr.intercept_,4))\n",
    "print(eqn_str)"
   ]
  },
  {
   "cell_type": "code",
   "execution_count": 63,
   "metadata": {
    "collapsed": false
   },
   "outputs": [
    {
     "data": {
      "image/png": "[encoded data removed]",
      "text/plain": [
       "<matplotlib.figure.Figure at 0x1168c9630>"
      ]
     },
     "metadata": {},
     "output_type": "display_data"
    }
   ],
   "source": [
    "plt.scatter(brain_array[:,1], brain_array[:,0], label=\"Experiement data\")\n",
    "#plt.xscale(\"log\")\n",
    "#plt.yscale(\"log\")\n",
    "plt.plot(brain_array[:,1], regr.predict(brain_array[:,1:]), label=\"Regression: \"+eqn_str)\n",
    "plt.title(\"Regression Line for Body to Brain Weight\")\n",
    "plt.xlabel(\"Body Mass (kg)\")\n",
    "plt.ylabel(\"Brain Mass (g)\")\n",
    "plt.legend(bbox_to_anchor=(1.05, 1), loc=2)\n",
    "plt.show()"
   ]
  },
  {
   "cell_type": "code",
   "execution_count": 64,
   "metadata": {
    "collapsed": false
   },
   "outputs": [
    {
     "data": {
      "text/plain": [
       "0.87266208430433312"
      ]
     },
     "execution_count": 64,
     "metadata": {},
     "output_type": "execute_result"
    }
   ],
   "source": [
    "regr.score(brain_array[:,1:], brain_array[:,0])"
   ]
  },
  {
   "cell_type": "markdown",
   "metadata": {},
   "source": [
    "This number indiciates a strong correlation, but I believe there is good reason to doubt its true predicitive power. It would seem that, for some reason, the closeness of points near zero help to get it counted as a tighter correlation. However, in the large animal sizes we see just how problematic this is, where it fails to accurately predict brain mass by perhaps 50% for essentially all examples. I think that some kind of altered log-based least squares method would be better suited for developing a correlation coefficient, which would be rather poor."
   ]
  },
  {
   "cell_type": "markdown",
   "metadata": {},
   "source": [
    "## Salary Discrimination\n",
    "\n",
    "The file `salary.txt` contains data for 52 tenure-track professors at a small Midwestern college. This data was used in legal proceedings in the 1980s about discrimination against women in salary.\n",
    "\n",
    "The data in the file, by column:\n",
    "\n",
    "1. Sex. 1 for female, 0 for male.\n",
    "2. Rank. 1 for assistant professor, 2 for associate professor, 3 for full professor.\n",
    "3. Year. Number of years in current rank.\n",
    "4. Degree. Highest degree. 1 for doctorate, 0 for master's.\n",
    "5. YSdeg. Years since highest degree was earned.\n",
    "6. Salary. Salary/year in dollars.\n",
    "\n",
    "### Tasks\n",
    "\n",
    "1. Find the linear regression equation for this data using columns 1-5 to column 6.\n",
    "2. Find the selection of columns with the best $R^2$ score.\n",
    "3. Report whether sex is a factor in salary."
   ]
  },
  {
   "cell_type": "code",
   "execution_count": 65,
   "metadata": {
    "collapsed": false
   },
   "outputs": [],
   "source": [
    "df = pd.read_fwf(\"salary.txt\", header=None, \n",
    "                 names=[\"Sex\", \"Rank\", \"Year\", \"Degree\", \"YSdeg\", \"Salary\"])"
   ]
  },
  {
   "cell_type": "code",
   "execution_count": 66,
   "metadata": {
    "collapsed": false
   },
   "outputs": [
    {
     "data": {
      "text/html": [
       "<div style=\"max-height:1000px;max-width:1500px;overflow:auto;\">\n",
       "<table border=\"1\" class=\"dataframe\">\n",
       "  <thead>\n",
       "    <tr style=\"text-align: right;\">\n",
       "      <th></th>\n",
       "      <th>Sex</th>\n",
       "      <th>Rank</th>\n",
       "      <th>Year</th>\n",
       "      <th>Degree</th>\n",
       "      <th>YSdeg</th>\n",
       "      <th>Salary</th>\n",
       "    </tr>\n",
       "  </thead>\n",
       "  <tbody>\n",
       "    <tr>\n",
       "      <th>0</th>\n",
       "      <td>0</td>\n",
       "      <td>3</td>\n",
       "      <td>25</td>\n",
       "      <td>1</td>\n",
       "      <td>35</td>\n",
       "      <td>36350</td>\n",
       "    </tr>\n",
       "    <tr>\n",
       "      <th>1</th>\n",
       "      <td>0</td>\n",
       "      <td>3</td>\n",
       "      <td>13</td>\n",
       "      <td>1</td>\n",
       "      <td>22</td>\n",
       "      <td>35350</td>\n",
       "    </tr>\n",
       "    <tr>\n",
       "      <th>2</th>\n",
       "      <td>0</td>\n",
       "      <td>3</td>\n",
       "      <td>10</td>\n",
       "      <td>1</td>\n",
       "      <td>23</td>\n",
       "      <td>28200</td>\n",
       "    </tr>\n",
       "    <tr>\n",
       "      <th>3</th>\n",
       "      <td>1</td>\n",
       "      <td>3</td>\n",
       "      <td>7</td>\n",
       "      <td>1</td>\n",
       "      <td>27</td>\n",
       "      <td>26775</td>\n",
       "    </tr>\n",
       "    <tr>\n",
       "      <th>4</th>\n",
       "      <td>0</td>\n",
       "      <td>3</td>\n",
       "      <td>19</td>\n",
       "      <td>0</td>\n",
       "      <td>30</td>\n",
       "      <td>33696</td>\n",
       "    </tr>\n",
       "  </tbody>\n",
       "</table>\n",
       "</div>"
      ],
      "text/plain": [
       "   Sex  Rank  Year  Degree  YSdeg  Salary\n",
       "0    0     3    25       1     35   36350\n",
       "1    0     3    13       1     22   35350\n",
       "2    0     3    10       1     23   28200\n",
       "3    1     3     7       1     27   26775\n",
       "4    0     3    19       0     30   33696"
      ]
     },
     "execution_count": 66,
     "metadata": {},
     "output_type": "execute_result"
    }
   ],
   "source": [
    "df.head()"
   ]
  },
  {
   "cell_type": "code",
   "execution_count": 67,
   "metadata": {
    "collapsed": false
   },
   "outputs": [
    {
     "name": "stdout",
     "output_type": "stream",
     "text": [
      " Category    Score      Equation\n",
      "      Sex    0.0639     -3339.6466 x + 24696.7895\n",
      "     Rank    0.75254    5952.7789 x + 11663.143\n",
      "     Year    0.49094    752.7978 x + 18166.1475\n",
      "   Degree    0.00486    -858.8693 x + 24359.2222\n",
      "    YSdeg    0.45543    390.6451 x + 17502.2574\n"
     ]
    }
   ],
   "source": [
    "s_table = np.asarray(df)\n",
    "salary = s_table[:,5]\n",
    "print(\" Category    Score      Equation\")\n",
    "regr_list = [0 for i in range(5)]\n",
    "for i in range(5):\n",
    "    pass\n",
    "    regr_list[i] = linear_model.LinearRegression()\n",
    "    regr = regr_list[i]\n",
    "    regr.fit(s_table[:,i:(i+1)], salary)\n",
    "    scr = regr.score(s_table[:,i:(i+1)], salary)\n",
    "    eqn_str = str(round(regr.coef_[0],4)) + \" x + \" + str(round(regr.intercept_,4))\n",
    "    print(df.columns[i].rjust(9)+\"    \"+str(round(scr,5)).ljust(9)+\"  \"+eqn_str)"
   ]
  },
  {
   "cell_type": "code",
   "execution_count": 69,
   "metadata": {
    "collapsed": false
   },
   "outputs": [
    {
     "name": "stdout",
     "output_type": "stream",
     "text": [
      "Predicted salary for Male faculty:   24696.79\n",
      "Predicted salary for Female faculty: 21357.14\n",
      "   difference: 3339.65\n"
     ]
    }
   ],
   "source": [
    "print(\"Predicted salary for Male faculty:   \"+str(round(regr_list[0].predict(0)[0], 2)))\n",
    "print(\"Predicted salary for Female faculty: \"+str(round(regr_list[0].predict(1)[0], 2)))\n",
    "print(\"   difference: \"+str(round(regr_list[0].predict(0)[0]-regr_list[0].predict(1)[0],2)))"
   ]
  },
  {
   "cell_type": "markdown",
   "metadata": {},
   "source": [
    "Right off the bat, this looks like a very significant difference between genders. It still doesn't consider the impact of the other factors. For instance, the female faculty may have fewer degrees than the male faculty."
   ]
  },
  {
   "cell_type": "code",
   "execution_count": 70,
   "metadata": {
    "collapsed": false
   },
   "outputs": [],
   "source": [
    "total_regr = linear_model.LinearRegression()\n",
    "total_regr = regr.fit(s_table[:,0:5], salary)"
   ]
  },
  {
   "cell_type": "code",
   "execution_count": 71,
   "metadata": {
    "collapsed": false
   },
   "outputs": [
    {
     "name": "stdout",
     "output_type": "stream",
     "text": [
      "[0.26923076923076922, 2.0384615384615383, 7.4807692307692308, 0.65384615384615385, 16.115384615384617]\n"
     ]
    }
   ],
   "source": [
    "mean_val = []\n",
    "for i in range(5):\n",
    "    mean_val.append(s_table[:,i].mean())\n",
    "print(mean_val)"
   ]
  },
  {
   "cell_type": "code",
   "execution_count": 72,
   "metadata": {
    "collapsed": false
   },
   "outputs": [],
   "source": [
    "avg_male = [0]+mean_val[1:]\n",
    "avg_female = [1]+mean_val[1:]"
   ]
  },
  {
   "cell_type": "code",
   "execution_count": 73,
   "metadata": {
    "collapsed": false
   },
   "outputs": [
    {
     "name": "stdout",
     "output_type": "stream",
     "text": [
      "Predicted salary for Male faculty:   23463.33\n",
      "Predicted salary for Female faculty: 24705.12\n"
     ]
    }
   ],
   "source": [
    "print(\"Predicted salary for Male faculty:   \"+str(round(total_regr.predict(avg_male)[0], 2)))\n",
    "print(\"Predicted salary for Female faculty: \"+str(round(total_regr.predict(avg_female)[0], 2)))"
   ]
  },
  {
   "cell_type": "markdown",
   "metadata": {},
   "source": [
    "This result is more statistically meaningful, although the political consequences are very complicated. This shows that a male faculty does not earn more than his female counterpart, if all of their other qualifications are held constant and referenced to the mean candidate. Thus, the data here do not provide direct evidence for gender discrimination. Politically, there still remains a problem that men academics are more qualified on average than female candidates, and this hardly seems irrelevant to the question of gender equality. There may have been discrimination in the granting of degrees in the first place. The factors that encourage men or women to study into certain fields and pursue higher levels of their career are likely to play an even more potent factor."
   ]
  },
  {
   "cell_type": "markdown",
   "metadata": {
    "collapsed": true
   },
   "source": [
    "## Removing Rank"
   ]
  },
  {
   "cell_type": "markdown",
   "metadata": {
    "collapsed": true
   },
   "source": [
    "The level of professorship that a faculity is teaching at is suspiciously subject to the same type of systemic gender bias that we're looking for in the first place. Both promotions and salary levels are decided by the judgement of faculty members internal to the school. So the experiment is repeated with that removed."
   ]
  },
  {
   "cell_type": "code",
   "execution_count": 74,
   "metadata": {
    "collapsed": false
   },
   "outputs": [],
   "source": [
    "s_table = np.delete(s_table, 1, 1)"
   ]
  },
  {
   "cell_type": "code",
   "execution_count": 75,
   "metadata": {
    "collapsed": false
   },
   "outputs": [],
   "source": [
    "col_list = list(df.columns)"
   ]
  },
  {
   "cell_type": "code",
   "execution_count": 76,
   "metadata": {
    "collapsed": false
   },
   "outputs": [],
   "source": [
    "col_list.remove(\"Rank\")"
   ]
  },
  {
   "cell_type": "code",
   "execution_count": 77,
   "metadata": {
    "collapsed": false
   },
   "outputs": [
    {
     "name": "stdout",
     "output_type": "stream",
     "text": [
      "[0.26923076923076922, 7.4807692307692308, 0.65384615384615385, 16.115384615384617]\n"
     ]
    }
   ],
   "source": [
    "total_regr = linear_model.LinearRegression()\n",
    "total_regr = regr.fit(s_table[:,0:4], salary)\n",
    "mean_val = []\n",
    "for i in range(4):\n",
    "    mean_val.append(s_table[:,i].mean())\n",
    "print(mean_val)\n",
    "avg_male = [0]+mean_val[1:]\n",
    "avg_female = [1]+mean_val[1:]"
   ]
  },
  {
   "cell_type": "code",
   "execution_count": 78,
   "metadata": {
    "collapsed": false
   },
   "outputs": [
    {
     "name": "stdout",
     "output_type": "stream",
     "text": [
      " average male expected salary 24144.0311632\n",
      " average femal expected salary 22857.4868427\n",
      "   difference 1286.54432054\n"
     ]
    }
   ],
   "source": [
    "M = total_regr.predict(avg_male)[0]\n",
    "F = total_regr.predict(avg_female)[0]\n",
    "print(\" average male expected salary \"+str(M))\n",
    "print(\" average femal expected salary \"+ str(F))\n",
    "print(\"   difference \"+str(M-F))"
   ]
  },
  {
   "cell_type": "markdown",
   "metadata": {},
   "source": [
    "So if we do not control for the faculty's promotions, the gender difference is apparent yet again. However, in this case, the difference is substanially less than the uncorrected value. This illustrates the fact that the problem will appear worse or better depending on what statistical method you use to look at the data."
   ]
  },
  {
   "cell_type": "code",
   "execution_count": null,
   "metadata": {
    "collapsed": true
   },
   "outputs": [],
   "source": []
  }
 ],
 "metadata": {
  "kernelspec": {
   "display_name": "Python 3",
   "language": "python",
   "name": "python3"
  },
  "language_info": {
   "codemirror_mode": {
    "name": "ipython",
    "version": 3
   },
   "file_extension": ".py",
   "mimetype": "text/x-python",
   "name": "python",
   "nbconvert_exporter": "python",
   "pygments_lexer": "ipython3",
   "version": "3.4.3"
  }
 },
 "nbformat": 4,
 "nbformat_minor": 0
}
