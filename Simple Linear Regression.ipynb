{
 "cells": [
  {
   "cell_type": "code",
   "execution_count": 1,
   "metadata": {
    "collapsed": false
   },
   "outputs": [],
   "source": [
    "import pandas as pd\n",
    "import matplotlib.pyplot as plt\n",
    "import numpy as np\n",
    "from sklearn import linear_model"
   ]
  },
  {
   "cell_type": "code",
   "execution_count": 2,
   "metadata": {
    "collapsed": true
   },
   "outputs": [],
   "source": [
    "%matplotlib inline"
   ]
  },
  {
   "cell_type": "markdown",
   "metadata": {},
   "source": [
    "## Ground Cricket Chirps\n",
    "\n",
    "In _The Song of Insects_ (1948) by George W. Pierce, Pierce mechanically measured the frequency (the number of wing vibrations per second) of chirps (or pulses of sound) made by a striped ground cricket, at various ground temperatures.  Since crickets are ectotherms (cold-blooded), the rate of their physiological processes and their overall metabolism are influenced by temperature.  Consequently, there is reason to believe that temperature would have a profound effect on aspects of their behavior, such as chirp frequency.\n",
    "\n",
    "In general, it was found that crickets did not sing at temperatures colder than 60º F. or warmer than 100º F."
   ]
  },
  {
   "cell_type": "code",
   "execution_count": 3,
   "metadata": {
    "collapsed": false
   },
   "outputs": [],
   "source": [
    "ground_cricket_data = {\"Chirps/Second\": [20.0, 16.0, 19.8, 18.4, 17.1, 15.5, 14.7,\n",
    "                                         15.7, 15.4, 16.3, 15.0, 17.2, 16.0, 17.0,\n",
    "                                         14.4],\n",
    "                       \"Ground Temperature\": [88.6, 71.6, 93.3, 84.3, 80.6, 75.2, 69.7,\n",
    "                                              71.6, 69.4, 83.3, 79.6, 82.6, 80.6, 83.5,\n",
    "                                              76.3]}\n",
    "df = pd.DataFrame(ground_cricket_data)"
   ]
  },
  {
   "cell_type": "markdown",
   "metadata": {},
   "source": [
    "### Tasks\n",
    "\n",
    "1. Find the linear regression equation for this data.\n",
    "2. Chart the original data and the equation on the chart.\n",
    "3. Find the equation's $R^2$ score (use the `.score` method) to determine whether the\n",
    "equation is a good fit for this data. (0.8 and greater is considered a strong correlation.)\n",
    "4. Extrapolate data:  If the ground temperature reached 95, then at what approximate rate would you expect the crickets to be chirping?\n",
    "5. Interpolate data:  With a listening device, you discovered that on a particular morning the crickets were chirping at a rate of 18 chirps per second.  What was the approximate ground temperature that morning? "
   ]
  },
  {
   "cell_type": "code",
   "execution_count": 4,
   "metadata": {
    "collapsed": false
   },
   "outputs": [],
   "source": [
    "input_data = df[[\"Ground Temperature\"]]\n",
    "dependent = df[[\"Chirps/Second\"]]"
   ]
  },
  {
   "cell_type": "code",
   "execution_count": 5,
   "metadata": {
    "collapsed": false
   },
   "outputs": [
    {
     "name": "stdout",
     "output_type": "stream",
     "text": [
      "Linear Regression: y = 0.20299973140771355x + 0.4593146452359598\n"
     ]
    }
   ],
   "source": [
    "regression = linear_model.LinearRegression()\n",
    "regression.fit(input_data, dependent)\n",
    "print(\"Linear Regression: y = {}x + {}\".format(regression.coef_[0][0], regression.intercept_[0]))"
   ]
  },
  {
   "cell_type": "code",
   "execution_count": 6,
   "metadata": {
    "collapsed": false
   },
   "outputs": [
    {
     "data": {
      "image/png": "[encoded data removed]",
      "text/plain": [
       "<matplotlib.figure.Figure at 0x10cfd27b8>"
      ]
     },
     "metadata": {},
     "output_type": "display_data"
    }
   ],
   "source": [
    "plt.scatter(input_data, dependent, color='black')\n",
    "plt.plot(input_data, regression.predict(input_data), color='red')\n",
    "plt.xlabel(\"Ground Temperature (F)\")\n",
    "plt.ylabel(\"Chirps/Second\")\n",
    "plt.show()"
   ]
  },
  {
   "cell_type": "code",
   "execution_count": 7,
   "metadata": {
    "collapsed": false
   },
   "outputs": [
    {
     "name": "stdout",
     "output_type": "stream",
     "text": [
      "R-squared value = 0.6922946529146998\n",
      "This fit is decent, but would not be classified as 'strong'\n"
     ]
    }
   ],
   "source": [
    "print(\"R-squared value = {}\".format(regression.score(input_data, dependent)))\n",
    "print(\"This fit is decent, but would not be classified as 'strong'\")"
   ]
  },
  {
   "cell_type": "code",
   "execution_count": 8,
   "metadata": {
    "collapsed": false
   },
   "outputs": [
    {
     "name": "stdout",
     "output_type": "stream",
     "text": [
      "For a ground temperature of 95F, we would predict crickets to chirp at 19.744289128968745 chirps/second\n"
     ]
    }
   ],
   "source": [
    "prediction = regression.predict(95)\n",
    "print(\"For a ground temperature of 95F, we would predict crickets to chirp at {} chirps/second\".format(prediction[0][0]))"
   ]
  },
  {
   "cell_type": "code",
   "execution_count": 9,
   "metadata": {
    "collapsed": true
   },
   "outputs": [],
   "source": [
    "def interpolate(value, regression):\n",
    "    slope = regression.coef_[0][0]\n",
    "    intercept = regression.intercept_[0]\n",
    "    return (value - intercept) / slope"
   ]
  },
  {
   "cell_type": "code",
   "execution_count": 10,
   "metadata": {
    "collapsed": false
   },
   "outputs": [
    {
     "name": "stdout",
     "output_type": "stream",
     "text": [
      "For a recorded chirp rate of 18 chirps/second, we would predict a ground temperature of 86.40743134548568F\n"
     ]
    }
   ],
   "source": [
    "print(\"For a recorded chirp rate of 18 chirps/second, we would predict a ground temperature of {}F\".format(interpolate(18, regression)))"
   ]
  },
  {
   "cell_type": "markdown",
   "metadata": {},
   "source": [
    "## Brain vs. Body Weight\n",
    "\n",
    "In the file `brain_body.txt`, the average brain and body weight for a number of mammal species are recorded. Load this data into a Pandas data frame.\n",
    "\n",
    "### Tasks\n",
    "\n",
    "1. Find the linear regression equation for this data for brain weight to body weight.\n",
    "2. Chart the original data and the equation on the chart.\n",
    "3. Find the equation's $R^2$ score (use the `.score` method) to determine whether the\n",
    "equation is a good fit for this data. (0.8 and greater is considered a strong correlation.)"
   ]
  },
  {
   "cell_type": "code",
   "execution_count": 11,
   "metadata": {
    "collapsed": false
   },
   "outputs": [],
   "source": [
    "df2 = pd.read_fwf(\"brain_body.txt\")\n",
    "input_data2 = df2[[\"Body\"]]\n",
    "dependent2 = df2[[\"Brain\"]]"
   ]
  },
  {
   "cell_type": "code",
   "execution_count": 12,
   "metadata": {
    "collapsed": false
   },
   "outputs": [
    {
     "name": "stdout",
     "output_type": "stream",
     "text": [
      "R-squared value = 0.8726620843043331\n",
      "Since the R-squared value is over 0.8, we would consider this a strong fit\n"
     ]
    }
   ],
   "source": [
    "regression2 = linear_model.LinearRegression()\n",
    "regression2.fit(input_data2, dependent2)\n",
    "print(\"R-squared value = {}\".format(regression2.score(input_data2, dependent2)))\n",
    "print(\"Since the R-squared value is over 0.8, we would consider this a strong fit\")"
   ]
  },
  {
   "cell_type": "markdown",
   "metadata": {},
   "source": [
    "## Salary Discrimination\n",
    "\n",
    "The file `salary.txt` contains data for 52 tenure-track professors at a small Midwestern college. This data was used in legal proceedings in the 1980s about discrimination against women in salary.\n",
    "\n",
    "The data in the file, by column:\n",
    "\n",
    "1. Sex. 1 for female, 0 for male.\n",
    "2. Rank. 1 for assistant professor, 2 for associate professor, 3 for full professor.\n",
    "3. Year. Number of years in current rank.\n",
    "4. Degree. Highest degree. 1 for doctorate, 0 for master's.\n",
    "5. YSdeg. Years since highest degree was earned.\n",
    "6. Salary. Salary/year in dollars.\n",
    "\n",
    "### Tasks\n",
    "\n",
    "1. Find the linear regression equation for this data using columns 1-5 to column 6.\n",
    "2. Find the selection of columns with the best $R^2$ score.\n",
    "3. Report whether sex is a factor in salary."
   ]
  },
  {
   "cell_type": "code",
   "execution_count": 13,
   "metadata": {
    "collapsed": false
   },
   "outputs": [],
   "source": [
    "df3 = pd.read_fwf(\"salary.txt\", header=None, \n",
    "                 names=[\"Sex\", \"Rank\", \"Year\", \"Degree\", \"YSdeg\", \"Salary\"])"
   ]
  },
  {
   "cell_type": "code",
   "execution_count": 14,
   "metadata": {
    "collapsed": false
   },
   "outputs": [],
   "source": [
    "input_data3 = df3[[\"Sex\", \"Rank\", \"Year\", \"Degree\", \"YSdeg\"]]\n",
    "dependent3 = df3[[\"Salary\"]]"
   ]
  },
  {
   "cell_type": "code",
   "execution_count": 15,
   "metadata": {
    "collapsed": false
   },
   "outputs": [
    {
     "name": "stdout",
     "output_type": "stream",
     "text": [
      "Coefficients: [ 1241.7924996   5586.18144952   482.85976783 -1331.64406341  -128.79057354]\n",
      "Intercept: 11410.146547255601\n",
      "R-Squared: 0.8547180674410969\n"
     ]
    }
   ],
   "source": [
    "regression3 = linear_model.LinearRegression()\n",
    "regression3.fit(input_data3, dependent3)\n",
    "print(\"Coefficients: {}\".format(regression3.coef_[0]))\n",
    "print(\"Intercept: {}\".format(regression3.intercept_[0]))\n",
    "print(\"R-Squared: {}\".format(regression3.score(input_data3, dependent3)))"
   ]
  },
  {
   "cell_type": "code",
   "execution_count": 16,
   "metadata": {
    "collapsed": false
   },
   "outputs": [],
   "source": [
    "import itertools\n",
    "from operator import itemgetter"
   ]
  },
  {
   "cell_type": "code",
   "execution_count": 17,
   "metadata": {
    "collapsed": true
   },
   "outputs": [],
   "source": [
    "def find_best(dataframe, dependent_var, independent_vars):\n",
    "    choices = []\n",
    "    for number in range(1, len(independent_vars)+1):\n",
    "        combos = list(itertools.combinations(independent_vars, number))\n",
    "        for combo in combos:\n",
    "            combo = list(combo)\n",
    "            input_data = dataframe[combo]\n",
    "            dependent = dataframe[dependent_var]\n",
    "            regression = linear_model.LinearRegression()\n",
    "            regression.fit(input_data, dependent)\n",
    "            choices.append((regression.score(input_data, dependent), combo, regression))\n",
    "    best = sorted(choices, key=itemgetter(0), reverse=True)\n",
    "    return best[0]"
   ]
  },
  {
   "cell_type": "code",
   "execution_count": 18,
   "metadata": {
    "collapsed": false
   },
   "outputs": [
    {
     "name": "stdout",
     "output_type": "stream",
     "text": [
      "The best fit has an R-squared of 0.8547180674410969 and uses ['Sex', 'Rank', 'Year', 'Degree', 'YSdeg'] to predit \n",
      "Salary.\n"
     ]
    }
   ],
   "source": [
    "best = find_best(df3, \"Salary\", [\"Sex\", \"Rank\", \"Year\", \"Degree\", \"YSdeg\"])\n",
    "independent_vars = df3[best[1]]\n",
    "print(\"\"\"The best fit has an R-squared of {} and uses {} to predit \n",
    "Salary.\"\"\".format(best[2].score(independent_vars, dependent3), best[1]))"
   ]
  },
  {
   "cell_type": "code",
   "execution_count": 19,
   "metadata": {
    "collapsed": false
   },
   "outputs": [
    {
     "name": "stdout",
     "output_type": "stream",
     "text": [
      "Our best fit had an R-squared of 0.8547180674410969.  If we remove Sex, we get an R-squared of 0.8456725764485596\n",
      "Since this is only a difference of 0.009045490992537264 we can conclude that gender does not have as strong\n",
      "an impact on salary as the other factors.\n"
     ]
    }
   ],
   "source": [
    "input_data4 = df3[['Rank', 'Year', 'YSdeg']]\n",
    "regression4 = linear_model.LinearRegression()\n",
    "regression4.fit(input_data4, dependent3)\n",
    "score1 = best[0]\n",
    "score2 = regression4.score(input_data4, dependent3)\n",
    "print(\"Our best fit had an R-squared of {}.  If we remove Sex, we get an R-squared of {}\".format(score1, score2))\n",
    "print(\"Since this is only a difference of {} we can conclude that gender does not have as strong\\nan impact on salary as the other factors.\".format(score1-score2))"
   ]
  },
  {
   "cell_type": "code",
   "execution_count": null,
   "metadata": {
    "collapsed": false
   },
   "outputs": [],
   "source": []
  },
  {
   "cell_type": "code",
   "execution_count": null,
   "metadata": {
    "collapsed": true
   },
   "outputs": [],
   "source": []
  }
 ],
 "metadata": {
  "kernelspec": {
   "display_name": "Python 3",
   "language": "python",
   "name": "python3"
  },
  "language_info": {
   "codemirror_mode": {
    "name": "ipython",
    "version": 3
   },
   "file_extension": ".py",
   "mimetype": "text/x-python",
   "name": "python",
   "nbconvert_exporter": "python",
   "pygments_lexer": "ipython3",
   "version": "3.4.3"
  }
 },
 "nbformat": 4,
 "nbformat_minor": 0
}
